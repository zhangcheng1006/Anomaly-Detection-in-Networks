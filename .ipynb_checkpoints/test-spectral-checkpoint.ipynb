{
 "cells": [
  {
   "cell_type": "code",
   "execution_count": 1,
   "metadata": {
    "scrolled": true
   },
   "outputs": [],
   "source": [
    "import numpy as np\n",
    "import networkx as nx\n",
    "from utils import *\n",
    "from generator import ER_generator, draw_anomalies\n",
    "import community\n",
    "import scipy\n",
    "from scipy import sparse\n",
    "from scipy.stats import norm\n",
    "import logging\n",
    "logging.basicConfig(format='%(name)s - %(levelname)s - %(message)s', level=logging.INFO)"
   ]
  },
  {
   "cell_type": "code",
   "execution_count": 2,
   "metadata": {
    "collapsed": true
   },
   "outputs": [
    {
     "name": "stdout",
     "output_type": "stream",
     "text": [
      "Adding 12 anomalies...\n",
      "The 1th anomaly...\n",
      "0\n",
      "Adding trees...\n",
      "9\n",
      "The 2th anomaly...\n",
      "9\n",
      "17\n",
      "Adding cliques...\n",
      "The 3th anomaly...\n",
      "17\n",
      "24\n",
      "Adding rings...\n",
      "The 4th anomaly...\n",
      "24\n",
      "36\n",
      "Adding paths...\n",
      "[511 520 861 642 629 795 697 357 286 958 187  89]\n",
      "The 5th anomaly...\n",
      "36\n",
      "49\n",
      "Adding cliques...\n",
      "The 6th anomaly...\n",
      "49\n",
      "68\n",
      "Adding paths...\n",
      "[920 105 696 279 624 689 432 169 656 899 134 525 926 686 104 591 593 180\n",
      "   8]\n",
      "The 7th anomaly...\n",
      "68\n",
      "86\n",
      "Adding cliques...\n",
      "The 8th anomaly...\n",
      "86\n",
      "96\n",
      "Adding paths...\n",
      "[346 998 561 662 936 110 359 804 765 907]\n",
      "The 9th anomaly...\n",
      "96\n",
      "108\n",
      "Adding stars...\n",
      "The 10th anomaly...\n",
      "108\n",
      "122\n",
      "Adding paths...\n",
      "[289  21 834 278 704 811 407 337 355 901  60 419 362 862]\n",
      "The 11th anomaly...\n",
      "122\n",
      "139\n",
      "Adding rings...\n",
      "The 12th anomaly...\n",
      "139\n",
      "153\n",
      "Adding rings...\n"
     ]
    }
   ],
   "source": [
    "obs_network = ER_generator(n=1000)\n",
    "obs_network = draw_anomalies(obs_network)"
   ]
  },
  {
   "cell_type": "code",
   "execution_count": 3,
   "metadata": {},
   "outputs": [
    {
     "name": "stderr",
     "output_type": "stream",
     "text": [
      "root - INFO - Generating 1-th null model\n",
      "root - INFO - Partitioning graph\n",
      "root - INFO - Generating 2-th null model\n",
      "root - INFO - Partitioning graph\n",
      "root - INFO - Generating 3-th null model\n",
      "root - INFO - Partitioning graph\n",
      "root - INFO - Generating 4-th null model\n",
      "root - INFO - Partitioning graph\n",
      "root - INFO - Generating 5-th null model\n",
      "root - INFO - Partitioning graph\n",
      "root - INFO - Generating 6-th null model\n",
      "root - INFO - Partitioning graph\n",
      "root - INFO - Generating 7-th null model\n",
      "root - INFO - Partitioning graph\n",
      "root - INFO - Generating 8-th null model\n",
      "root - INFO - Partitioning graph\n",
      "root - INFO - Generating 9-th null model\n",
      "root - INFO - Partitioning graph\n",
      "root - INFO - Generating 10-th null model\n",
      "root - INFO - Partitioning graph\n"
     ]
    }
   ],
   "source": [
    "null_models = generate_null_model(num_models=10, n=1000)"
   ]
  },
  {
   "cell_type": "code",
   "execution_count": 4,
   "metadata": {
    "collapsed": true
   },
   "outputs": [
    {
     "name": "stderr",
     "output_type": "stream",
     "text": [
      "/opt/miniconda3/lib/python3.6/site-packages/scipy/sparse/linalg/dsolve/linsolve.py:296: SparseEfficiencyWarning: splu requires CSC matrix format\n",
      "  warn('splu requires CSC matrix format', SparseEfficiencyWarning)\n",
      "/opt/miniconda3/lib/python3.6/site-packages/scipy/sparse/linalg/dsolve/linsolve.py:203: SparseEfficiencyWarning: spsolve is more efficient when sparse b is in the CSC matrix format\n",
      "  'is in the CSC matrix format', SparseEfficiencyWarning)\n",
      "root - INFO - Using sparse method to compute eigen vectors\n",
      "root - INFO - Using sparse method to compute eigen vectors\n",
      "root - INFO - Using sparse method to compute eigen vectors\n",
      "root - INFO - Using sparse method to compute eigen vectors\n",
      "root - INFO - Using sparse method to compute eigen vectors\n",
      "root - INFO - Using sparse method to compute eigen vectors\n",
      "root - INFO - Using sparse method to compute eigen vectors\n",
      "root - INFO - Using sparse method to compute eigen vectors\n",
      "root - INFO - Using sparse method to compute eigen vectors\n",
      "root - INFO - Using sparse method to compute eigen vectors\n",
      "root - INFO - Using sparse method to compute eigen vectors\n",
      "root - INFO - Using sparse method to compute eigen vectors\n",
      "root - INFO - Using sparse method to compute eigen vectors\n",
      "root - INFO - Using sparse method to compute eigen vectors\n",
      "root - INFO - Using sparse method to compute eigen vectors\n",
      "root - INFO - Using sparse method to compute eigen vectors\n",
      "root - INFO - Using sparse method to compute eigen vectors\n",
      "root - INFO - Using sparse method to compute eigen vectors\n",
      "root - INFO - Using sparse method to compute eigen vectors\n",
      "root - INFO - Using sparse method to compute eigen vectors\n",
      "root - INFO - Using sparse method to compute eigen vectors\n",
      "root - INFO - Using sparse method to compute eigen vectors\n",
      "root - INFO - Using sparse method to compute eigen vectors\n",
      "root - INFO - Using sparse method to compute eigen vectors\n",
      "root - INFO - Using sparse method to compute eigen vectors\n",
      "root - INFO - Using sparse method to compute eigen vectors\n",
      "root - INFO - Using sparse method to compute eigen vectors\n",
      "root - INFO - Using sparse method to compute eigen vectors\n",
      "root - INFO - Using sparse method to compute eigen vectors\n",
      "root - INFO - Using sparse method to compute eigen vectors\n",
      "root - INFO - Using sparse method to compute eigen vectors\n",
      "root - INFO - Using sparse method to compute eigen vectors\n",
      "root - INFO - Using sparse method to compute eigen vectors\n",
      "root - INFO - Using sparse method to compute eigen vectors\n",
      "root - INFO - Using sparse method to compute eigen vectors\n",
      "root - INFO - Using sparse method to compute eigen vectors\n",
      "root - INFO - Using sparse method to compute eigen vectors\n",
      "root - INFO - Using sparse method to compute eigen vectors\n",
      "root - INFO - Using sparse method to compute eigen vectors\n",
      "root - INFO - Using sparse method to compute eigen vectors\n"
     ]
    }
   ],
   "source": [
    "null_vectors = [comm_eigenvectors(comm) for comm in null_models]"
   ]
  },
  {
   "cell_type": "code",
   "execution_count": 5,
   "metadata": {},
   "outputs": [
    {
     "data": {
      "text/plain": [
       "(10, 4, (76, 20), (42, 20))"
      ]
     },
     "execution_count": 5,
     "metadata": {},
     "output_type": "execute_result"
    }
   ],
   "source": [
    "len(null_vectors), len(null_vectors[0]), null_vectors[0][0].shape, null_vectors[1][0].shape"
   ]
  },
  {
   "cell_type": "code",
   "execution_count": 6,
   "metadata": {},
   "outputs": [],
   "source": [
    "obs_comms = partition_graph(obs_network)\n",
    "obs_comms = [obs_network.subgraph(comm) for comm in obs_comms]"
   ]
  },
  {
   "cell_type": "code",
   "execution_count": 7,
   "metadata": {
    "scrolled": true
   },
   "outputs": [
    {
     "name": "stderr",
     "output_type": "stream",
     "text": [
      "root - INFO - Using sparse method to compute eigen vectors\n",
      "root - INFO - Using sparse method to compute eigen vectors\n",
      "root - INFO - Using sparse method to compute eigen vectors\n",
      "root - INFO - Using sparse method to compute eigen vectors\n",
      "root - INFO - Using sparse method to compute eigen vectors\n",
      "root - INFO - Using sparse method to compute eigen vectors\n",
      "root - INFO - Using sparse method to compute eigen vectors\n",
      "root - INFO - Using sparse method to compute eigen vectors\n",
      "root - INFO - Using sparse method to compute eigen vectors\n",
      "root - INFO - Using sparse method to compute eigen vectors\n",
      "root - INFO - Using sparse method to compute eigen vectors\n",
      "root - INFO - Using sparse method to compute eigen vectors\n",
      "root - INFO - Using sparse method to compute eigen vectors\n",
      "root - INFO - Using sparse method to compute eigen vectors\n",
      "root - INFO - Using sparse method to compute eigen vectors\n",
      "root - INFO - Using sparse method to compute eigen vectors\n",
      "root - INFO - Using sparse method to compute eigen vectors\n",
      "root - INFO - Using sparse method to compute eigen vectors\n",
      "root - INFO - Using sparse method to compute eigen vectors\n",
      "root - INFO - Using sparse method to compute eigen vectors\n",
      "root - INFO - Using sparse method to compute eigen vectors\n",
      "root - INFO - Using sparse method to compute eigen vectors\n",
      "root - INFO - Using sparse method to compute eigen vectors\n",
      "root - INFO - Using sparse method to compute eigen vectors\n",
      "root - INFO - Using sparse method to compute eigen vectors\n",
      "root - INFO - Using sparse method to compute eigen vectors\n",
      "root - INFO - Using sparse method to compute eigen vectors\n",
      "root - INFO - Using sparse method to compute eigen vectors\n",
      "root - INFO - Using sparse method to compute eigen vectors\n",
      "root - INFO - Using sparse method to compute eigen vectors\n",
      "root - INFO - Using sparse method to compute eigen vectors\n",
      "root - INFO - Using sparse method to compute eigen vectors\n",
      "root - INFO - Using sparse method to compute eigen vectors\n",
      "root - INFO - Using sparse method to compute eigen vectors\n",
      "root - INFO - Using sparse method to compute eigen vectors\n",
      "root - INFO - Using sparse method to compute eigen vectors\n",
      "root - INFO - Using sparse method to compute eigen vectors\n",
      "root - INFO - Using sparse method to compute eigen vectors\n",
      "root - INFO - Using sparse method to compute eigen vectors\n",
      "root - INFO - Using sparse method to compute eigen vectors\n",
      "root - INFO - Using sparse method to compute eigen vectors\n",
      "root - INFO - Using sparse method to compute eigen vectors\n",
      "root - INFO - Using sparse method to compute eigen vectors\n",
      "root - INFO - Using sparse method to compute eigen vectors\n",
      "root - INFO - Using sparse method to compute eigen vectors\n",
      "root - INFO - Using sparse method to compute eigen vectors\n",
      "root - INFO - Using sparse method to compute eigen vectors\n",
      "root - INFO - Using sparse method to compute eigen vectors\n",
      "root - INFO - Using sparse method to compute eigen vectors\n",
      "root - INFO - Using sparse method to compute eigen vectors\n",
      "root - INFO - Using sparse method to compute eigen vectors\n",
      "root - INFO - Using sparse method to compute eigen vectors\n",
      "root - INFO - Using sparse method to compute eigen vectors\n",
      "root - INFO - Using sparse method to compute eigen vectors\n",
      "root - INFO - Using sparse method to compute eigen vectors\n",
      "root - INFO - Using sparse method to compute eigen vectors\n",
      "root - INFO - Using sparse method to compute eigen vectors\n",
      "root - INFO - Using sparse method to compute eigen vectors\n",
      "root - INFO - Using sparse method to compute eigen vectors\n",
      "root - INFO - Using sparse method to compute eigen vectors\n"
     ]
    }
   ],
   "source": [
    "obs_comm_vectors = [comm_eigenvectors(comm) for comm in obs_comms if nx.number_of_nodes(comm)>4]"
   ]
  },
  {
   "cell_type": "code",
   "execution_count": 70,
   "metadata": {},
   "outputs": [],
   "source": [
    "from spectral_localisation import *"
   ]
  },
  {
   "cell_type": "code",
   "execution_count": 71,
   "metadata": {},
   "outputs": [],
   "source": [
    "obs_upper = obs_comm_vectors[0][0]"
   ]
  },
  {
   "cell_type": "code",
   "execution_count": 72,
   "metadata": {},
   "outputs": [],
   "source": [
    "null_upper = [null_vs[0] for null_vs in null_vectors]"
   ]
  },
  {
   "cell_type": "code",
   "execution_count": 73,
   "metadata": {},
   "outputs": [
    {
     "ename": "TypeError",
     "evalue": "No loop matching the specified signature and casting\nwas found for ufunc true_divide",
     "output_type": "error",
     "traceback": [
      "\u001b[0;31m---------------------------------------------------------------------------\u001b[0m",
      "\u001b[0;31mTypeError\u001b[0m                                 Traceback (most recent call last)",
      "\u001b[0;32m<ipython-input-73-b15354865802>\u001b[0m in \u001b[0;36m<module>\u001b[0;34m\u001b[0m\n\u001b[0;32m----> 1\u001b[0;31m \u001b[0miprs\u001b[0m\u001b[0;34m,\u001b[0m \u001b[0mexps\u001b[0m \u001b[0;34m=\u001b[0m \u001b[0mnorm_based_scores\u001b[0m\u001b[0;34m(\u001b[0m\u001b[0mobs_upper\u001b[0m\u001b[0;34m,\u001b[0m \u001b[0mnull_upper\u001b[0m\u001b[0;34m)\u001b[0m\u001b[0;34m\u001b[0m\u001b[0;34m\u001b[0m\u001b[0m\n\u001b[0m",
      "\u001b[0;32m/mnt/d/Study/ENSAE/Compressed-Sensing/Projet/Anomaly-Detection-in-Networks/spectral_localisation.py\u001b[0m in \u001b[0;36mnorm_based_scores\u001b[0;34m(obs_vectors, null_vectors)\u001b[0m\n\u001b[1;32m    153\u001b[0m     \u001b[0mnull_max\u001b[0m\u001b[0;34m,\u001b[0m \u001b[0mnull_mean\u001b[0m\u001b[0;34m,\u001b[0m \u001b[0mnull_std\u001b[0m \u001b[0;34m=\u001b[0m \u001b[0mnull_norm_based_params\u001b[0m\u001b[0;34m(\u001b[0m\u001b[0mnull_vectors\u001b[0m\u001b[0;34m)\u001b[0m\u001b[0;34m\u001b[0m\u001b[0;34m\u001b[0m\u001b[0m\n\u001b[1;32m    154\u001b[0m     \u001b[0;31m# obs_g's are in the same shape of obs_vectors\u001b[0m\u001b[0;34m\u001b[0m\u001b[0;34m\u001b[0m\u001b[0;34m\u001b[0m\u001b[0m\n\u001b[0;32m--> 155\u001b[0;31m     \u001b[0mobs_g1\u001b[0m \u001b[0;34m=\u001b[0m \u001b[0mnorm_based_localization_1\u001b[0m\u001b[0;34m(\u001b[0m\u001b[0mobs_vectors\u001b[0m\u001b[0;34m)\u001b[0m\u001b[0;34m\u001b[0m\u001b[0;34m\u001b[0m\u001b[0m\n\u001b[0m\u001b[1;32m    156\u001b[0m     \u001b[0mobs_g2\u001b[0m \u001b[0;34m=\u001b[0m \u001b[0mnorm_based_localization_2\u001b[0m\u001b[0;34m(\u001b[0m\u001b[0mobs_vectors\u001b[0m\u001b[0;34m,\u001b[0m \u001b[0mnull_max\u001b[0m\u001b[0;34m=\u001b[0m\u001b[0mnull_max\u001b[0m\u001b[0;34m)\u001b[0m\u001b[0;34m\u001b[0m\u001b[0;34m\u001b[0m\u001b[0m\n\u001b[1;32m    157\u001b[0m     \u001b[0mobs_g3\u001b[0m \u001b[0;34m=\u001b[0m \u001b[0mnorm_based_localization_3\u001b[0m\u001b[0;34m(\u001b[0m\u001b[0mobs_vectors\u001b[0m\u001b[0;34m,\u001b[0m \u001b[0mnull_mean\u001b[0m\u001b[0;34m=\u001b[0m\u001b[0mnull_mean\u001b[0m\u001b[0;34m,\u001b[0m \u001b[0mnull_std\u001b[0m\u001b[0;34m=\u001b[0m\u001b[0mnull_std\u001b[0m\u001b[0;34m)\u001b[0m\u001b[0;34m\u001b[0m\u001b[0;34m\u001b[0m\u001b[0m\n",
      "\u001b[0;32m/mnt/d/Study/ENSAE/Compressed-Sensing/Projet/Anomaly-Detection-in-Networks/spectral_localisation.py\u001b[0m in \u001b[0;36mnorm_based_localization_2\u001b[0;34m(obs_vectors, null_max)\u001b[0m\n\u001b[1;32m     36\u001b[0m     \u001b[0;32mfor\u001b[0m \u001b[0mx\u001b[0m \u001b[0;32min\u001b[0m \u001b[0mnull_max\u001b[0m\u001b[0;34m:\u001b[0m \u001b[0;31m# x size: [20, ]\u001b[0m\u001b[0;34m\u001b[0m\u001b[0;34m\u001b[0m\u001b[0m\n\u001b[1;32m     37\u001b[0m         \u001b[0mt_a\u001b[0m \u001b[0;34m+=\u001b[0m \u001b[0;34m(\u001b[0m\u001b[0mobs_vectors\u001b[0m \u001b[0;34m<=\u001b[0m \u001b[0mx\u001b[0m\u001b[0;34m)\u001b[0m\u001b[0;34m\u001b[0m\u001b[0;34m\u001b[0m\u001b[0m\n\u001b[0;32m---> 38\u001b[0;31m     \u001b[0mt_a\u001b[0m \u001b[0;34m/=\u001b[0m \u001b[0;34m(\u001b[0m\u001b[0mm\u001b[0m \u001b[0;34m+\u001b[0m \u001b[0;36m1\u001b[0m\u001b[0;34m)\u001b[0m\u001b[0;34m\u001b[0m\u001b[0;34m\u001b[0m\u001b[0m\n\u001b[0m\u001b[1;32m     39\u001b[0m     \u001b[0mt_a\u001b[0m\u001b[0;34m[\u001b[0m\u001b[0mnp\u001b[0m\u001b[0;34m.\u001b[0m\u001b[0mwhere\u001b[0m\u001b[0;34m(\u001b[0m\u001b[0mt_a\u001b[0m\u001b[0;34m>=\u001b[0m\u001b[0;36m0.5\u001b[0m\u001b[0;34m)\u001b[0m\u001b[0;34m]\u001b[0m \u001b[0;34m=\u001b[0m \u001b[0;36m0.5\u001b[0m\u001b[0;34m\u001b[0m\u001b[0;34m\u001b[0m\u001b[0m\n\u001b[1;32m     40\u001b[0m     \u001b[0mg2\u001b[0m \u001b[0;34m=\u001b[0m \u001b[0mnorm\u001b[0m\u001b[0;34m.\u001b[0m\u001b[0mppf\u001b[0m\u001b[0;34m(\u001b[0m\u001b[0;36m1\u001b[0m\u001b[0;34m-\u001b[0m\u001b[0mt_a\u001b[0m\u001b[0;34m)\u001b[0m\u001b[0;34m\u001b[0m\u001b[0;34m\u001b[0m\u001b[0m\n",
      "\u001b[0;31mTypeError\u001b[0m: No loop matching the specified signature and casting\nwas found for ufunc true_divide"
     ]
    }
   ],
   "source": [
    "iprs, exps = norm_based_scores(obs_upper, null_upper)"
   ]
  },
  {
   "cell_type": "code",
   "execution_count": null,
   "metadata": {},
   "outputs": [],
   "source": []
  }
 ],
 "metadata": {
  "kernelspec": {
   "display_name": "Python 3",
   "language": "python",
   "name": "python3"
  },
  "language_info": {
   "codemirror_mode": {
    "name": "ipython",
    "version": 3
   },
   "file_extension": ".py",
   "mimetype": "text/x-python",
   "name": "python",
   "nbconvert_exporter": "python",
   "pygments_lexer": "ipython3",
   "version": "3.6.8"
  }
 },
 "nbformat": 4,
 "nbformat_minor": 2
}
