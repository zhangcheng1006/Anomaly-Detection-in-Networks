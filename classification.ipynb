{
 "cells": [
  {
   "cell_type": "code",
   "execution_count": 2,
   "metadata": {},
   "outputs": [
    {
     "name": "stderr",
     "output_type": "stream",
     "text": [
      "/usr/lib/python3.6/importlib/_bootstrap.py:219: RuntimeWarning: numpy.ufunc size changed, may indicate binary incompatibility. Expected 216, got 192\n",
      "  return f(*args, **kwds)\n",
      "/usr/lib/python3.6/importlib/_bootstrap.py:219: RuntimeWarning: numpy.ufunc size changed, may indicate binary incompatibility. Expected 216, got 192\n",
      "  return f(*args, **kwds)\n"
     ]
    }
   ],
   "source": [
    "import os\n",
    "import numpy as np\n",
    "import pandas as pd\n",
    "from sklearn.model_selection import train_test_split"
   ]
  },
  {
   "cell_type": "code",
   "execution_count": 9,
   "metadata": {},
   "outputs": [],
   "source": [
    "# X = pd.read_csv('test_data.csv', index_col=0)\n",
    "data_path = './data/'\n",
    "data = []\n",
    "for data_file in os.listdir(data_path):\n",
    "    data_file_path = os.path.join(data_path, data_file)\n",
    "    X = pd.read_csv(data_file_path, index_col=0)\n",
    "    X['type'] = (X['type']!='0').astype(int)\n",
    "    data.append(X)"
   ]
  },
  {
   "cell_type": "code",
   "execution_count": 29,
   "metadata": {},
   "outputs": [],
   "source": [
    "def concatenate_XY(Xs, Ys):\n",
    "    features = Xs[0].columns\n",
    "    X = pd.DataFrame(columns=features)\n",
    "    Y = pd.Series(name='type')\n",
    "    for X_, Y_ in zip(Xs, Ys):\n",
    "        X = pd.concat([X, X_], axis=0, ignore_index=True)\n",
    "        Y = Y.append(Y_, ignore_index=True)\n",
    "    return X, Y"
   ]
  },
  {
   "cell_type": "code",
   "execution_count": 30,
   "metadata": {},
   "outputs": [],
   "source": [
    "def split_train_test(data, test_size=0.3, mix_all=True):\n",
    "    Ys = [X['type'] for X in data]\n",
    "    Xs = [X.drop('type', axis=1) for X in data]\n",
    "    if mix_all:\n",
    "        X, Y = concatenate_XY(Xs, Ys)\n",
    "        X_train, X_test, Y_train, Y_test = train_test_split(X, Y, test_size=test_size)\n",
    "    else:\n",
    "        # keep complete graph for test\n",
    "        num_test_graph = max(1, int(len(data)*test_size))\n",
    "        test_indice = np.random.choice(range(len(data)), size=num_test_graph, replace=False)\n",
    "        Xs_train = [X for i, X in enumerate(Xs) if i not in test_indice]\n",
    "        Ys_train = [Y for i, Y in enumerate(Ys) if i not in test_indice]\n",
    "        X_train, Y_train = concatenate_XY(Xs_train, Ys_train)\n",
    "        X_test = [X for i, X in enumerate(Xs) if i in test_indice]\n",
    "        Y_test = [Y for i, Y in enumerate(Ys) if i in test_indice]\n",
    "    return X_train, X_test, Y_train, Y_test"
   ]
  },
  {
   "cell_type": "code",
   "execution_count": 31,
   "metadata": {},
   "outputs": [],
   "source": [
    "X_train, X_test, Y_train, Y_test = split_train_test(data)"
   ]
  },
  {
   "cell_type": "code",
   "execution_count": 80,
   "metadata": {},
   "outputs": [],
   "source": [
    "def feature_sum(X, normalize=False):\n",
    "    if normalize:\n",
    "        X_ = X.copy()\n",
    "        X_min = X_.min(axis=0)\n",
    "        X_max = X_.max(axis=0)\n",
    "        X_scale = X_max - X_min\n",
    "        X_ = (X_ - X_min) / X_scale\n",
    "        return X_.sum(axis=1)\n",
    "    return X.sum(axis=1)"
   ]
  },
  {
   "cell_type": "code",
   "execution_count": 43,
   "metadata": {},
   "outputs": [],
   "source": [
    "pred_fs = feature_sum(X_train, normalize=True)"
   ]
  },
  {
   "cell_type": "code",
   "execution_count": 59,
   "metadata": {},
   "outputs": [],
   "source": [
    "from utils import precision_recall, average_precision"
   ]
  },
  {
   "cell_type": "code",
   "execution_count": 48,
   "metadata": {},
   "outputs": [],
   "source": [
    "sample_sizes = [8, 16, 32, 64, 128, 256, 512, 800]\n",
    "results = precision_recall(pred_fs, Y, *sample_sizes)"
   ]
  },
  {
   "cell_type": "code",
   "execution_count": 51,
   "metadata": {},
   "outputs": [
    {
     "data": {
      "text/plain": [
       "[(8, (1.0, 0.04419889502762431)),\n",
       " (16, (1.0, 0.08839779005524862)),\n",
       " (32, (1.0, 0.17679558011049723)),\n",
       " (64, (0.78125, 0.27624309392265195)),\n",
       " (128, (0.46875, 0.3314917127071823)),\n",
       " (256, (0.265625, 0.3756906077348066)),\n",
       " (512, (0.236328125, 0.6685082872928176)),\n",
       " (800, (0.19875, 0.8784530386740331))]"
      ]
     },
     "execution_count": 51,
     "metadata": {},
     "output_type": "execute_result"
    }
   ],
   "source": [
    "list(zip(sample_sizes, results))"
   ]
  },
  {
   "cell_type": "code",
   "execution_count": 50,
   "metadata": {},
   "outputs": [
    {
     "data": {
      "text/plain": [
       "0.4491163368239156"
      ]
     },
     "execution_count": 50,
     "metadata": {},
     "output_type": "execute_result"
    }
   ],
   "source": [
    "avg_prec = average_precision(pred_fs, Y)\n",
    "avg_prec"
   ]
  },
  {
   "cell_type": "code",
   "execution_count": null,
   "metadata": {},
   "outputs": [],
   "source": []
  },
  {
   "cell_type": "code",
   "execution_count": 34,
   "metadata": {},
   "outputs": [],
   "source": [
    "from sklearn.ensemble import RandomForestClassifier"
   ]
  },
  {
   "cell_type": "code",
   "execution_count": null,
   "metadata": {},
   "outputs": [],
   "source": [
    "rfs = []\n",
    "for n_estimators in [10, 20, 50, 100]:\n",
    "    rf = RandomForestClassifier(n_estimators=n_estimators, max_depth=5, max_features='auto', n_jobs=-1)\n",
    "    rf"
   ]
  },
  {
   "cell_type": "code",
   "execution_count": 36,
   "metadata": {},
   "outputs": [
    {
     "data": {
      "text/plain": [
       "RandomForestClassifier(bootstrap=True, class_weight=None, criterion='gini',\n",
       "            max_depth=5, max_features='auto', max_leaf_nodes=None,\n",
       "            min_impurity_decrease=0.0, min_impurity_split=None,\n",
       "            min_samples_leaf=1, min_samples_split=2,\n",
       "            min_weight_fraction_leaf=0.0, n_estimators=20, n_jobs=-1,\n",
       "            oob_score=False, random_state=None, verbose=0,\n",
       "            warm_start=False)"
      ]
     },
     "execution_count": 36,
     "metadata": {},
     "output_type": "execute_result"
    }
   ],
   "source": [
    "rf = RandomForestClassifier(n_estimators=20, max_depth=5, max_features='auto', n_jobs=-1)\n",
    "rf.fit(X_train, Y_train)"
   ]
  },
  {
   "cell_type": "code",
   "execution_count": 44,
   "metadata": {},
   "outputs": [
    {
     "data": {
      "text/plain": [
       "[('second_density', 0.09852105708875605),\n",
       " ('NetEMD_lower_1', 0.08927607019128674),\n",
       " ('degree_std', 0.08003564140987088),\n",
       " ('gaw20_score', 0.06233316142377585),\n",
       " ('NetEMD_lower_2', 0.061509809070066965),\n",
       " ('path_2', 0.04945105083185256),\n",
       " ('first_strength', 0.048770211068831656),\n",
       " ('gaw_score', 0.04378491154489465),\n",
       " ('third_density', 0.04056664205553584),\n",
       " ('second_strength', 0.03574373446254246),\n",
       " ('path_18', 0.028119539274564814),\n",
       " ('comb_ipr_4', 0.02228738917181209),\n",
       " ('path_16', 0.01945683070224047),\n",
       " ('lower_ipr_4', 0.018166094808872227),\n",
       " ('lower_absolute_value', 0.015811781103968286),\n",
       " ('comb_absolute_value', 0.014970658036673246),\n",
       " ('upper_exp_2', 0.01470680765437378),\n",
       " ('lower_exp_2', 0.01456383692044246),\n",
       " ('NetEMD_rw_1', 0.014511786723428139),\n",
       " ('path_20', 0.014415835719781283),\n",
       " ('rw_ipr_4', 0.01358794590216946),\n",
       " ('path_13', 0.012923712433149295),\n",
       " ('gaw10_score', 0.012460986346166094),\n",
       " ('first_density', 0.010970249731904975),\n",
       " ('NetEMD_rw_2', 0.010457054010781662),\n",
       " ('path_19', 0.009641479839405453),\n",
       " ('rw_exp_3', 0.009597154330498769),\n",
       " ('upper_ipr_4', 0.009252484095651669),\n",
       " ('upper_absolute_value', 0.008864595700916708),\n",
       " ('rw_ipr_3', 0.00825508243496928),\n",
       " ('upper_sign_stat_2', 0.007972278852827051),\n",
       " ('comb_exp_2', 0.007677660785623944),\n",
       " ('path_3', 0.0069488315683533764),\n",
       " ('comb_exp_1', 0.0067198419712985),\n",
       " ('path_14', 0.0057651212373275185),\n",
       " ('rw_absolute_value', 0.005385823937993027),\n",
       " ('comb_sign_stat_1', 0.0047761717044753965),\n",
       " ('upper_sign_stat_1', 0.004177150071505387),\n",
       " ('upper_exp_3', 0.0037554149894704443),\n",
       " ('lower_ipr_2', 0.0037221491406890356),\n",
       " ('upper_ipr_3', 0.0035534512079067743),\n",
       " ('comb_ipr_2', 0.003322813560233425),\n",
       " ('lower_exp_4', 0.003271273959472283),\n",
       " ('upper_ipr_2', 0.003212955496837148),\n",
       " ('rw_exp_2', 0.0030465553929762282),\n",
       " ('upper_ipr_1', 0.0026720710223968125),\n",
       " ('upper_exp_4', 0.002655087315039744),\n",
       " ('comb_ipr_1', 0.0022566689808056774),\n",
       " ('lower_ipr_3', 0.002052501994561621),\n",
       " ('NetEMD_upper_2', 0.002006839594740761),\n",
       " ('rw_ipr90', 0.001945179580978508),\n",
       " ('upper_ipr90', 0.0019436003273910578),\n",
       " ('rw_exp_1', 0.0017161536901900074),\n",
       " ('path_15', 0.0014320834390699829),\n",
       " ('comb_ipr_3', 0.0013336670999734804),\n",
       " ('rw_exp_4', 0.0011763770964249541),\n",
       " ('rw_sign_stat_2', 0.0011692449422730238),\n",
       " ('lower_ipr90', 0.001141561833551208),\n",
       " ('path_17', 0.001109838229450848),\n",
       " ('comb_ipr90', 0.0010968221520966976),\n",
       " ('lower_sign_stat_2', 0.0008995824855014357),\n",
       " ('upper_abs90', 0.0008900397777500243),\n",
       " ('comb_exp_4', 0.0007836969017267104),\n",
       " ('NetEMD_comb_1', 0.0007361364027231038),\n",
       " ('NetEMD_comb_2', 0.0007208559946672191),\n",
       " ('comb_sign_equal_1', 0.000707786936831352),\n",
       " ('comb_exp_3', 0.0006136781148844588),\n",
       " ('lower_ipr_1', 0.0005504377423651353),\n",
       " ('lower_exp_1', 0.0005444784812192779),\n",
       " ('lower_abs90', 0.0005231530871348636),\n",
       " ('comb_sign_stat_2', 0.00039944341336840844),\n",
       " ('upper_exp_1', 0.00032111648070782216),\n",
       " ('comb_abs90', 0.00013286427609774328),\n",
       " ('rw_ipr_2', 0.0001134273937229736),\n",
       " ('rw_sign_stat_1', 3.451724618171016e-05),\n",
       " ('small_community', 0.0),\n",
       " ('in_strength_1', 0.0),\n",
       " ('in_strength_2', 0.0),\n",
       " ('out_strength_1', 0.0),\n",
       " ('out_strength_2', 0.0),\n",
       " ('in_out_strength_1', 0.0),\n",
       " ('in_out_strength_2', 0.0),\n",
       " ('motif_4_1', 0.0),\n",
       " ('motif_4_2', 0.0),\n",
       " ('motif_5_1', 0.0),\n",
       " ('motif_5_2', 0.0),\n",
       " ('motif_6_1', 0.0),\n",
       " ('motif_6_2', 0.0),\n",
       " ('motif_7_1', 0.0),\n",
       " ('motif_7_2', 0.0),\n",
       " ('motif_8_1', 0.0),\n",
       " ('motif_8_2', 0.0),\n",
       " ('motif_9_1', 0.0),\n",
       " ('motif_9_2', 0.0),\n",
       " ('motif_10_1', 0.0),\n",
       " ('motif_10_2', 0.0),\n",
       " ('motif_11_1', 0.0),\n",
       " ('motif_11_2', 0.0),\n",
       " ('motif_12_1', 0.0),\n",
       " ('motif_12_2', 0.0),\n",
       " ('motif_13_1', 0.0),\n",
       " ('motif_13_2', 0.0),\n",
       " ('motif_14_1', 0.0),\n",
       " ('motif_14_2', 0.0),\n",
       " ('motif_15_1', 0.0),\n",
       " ('motif_15_2', 0.0),\n",
       " ('motif_16_1', 0.0),\n",
       " ('motif_16_2', 0.0),\n",
       " ('NetEMD_upper_1', 0.0),\n",
       " ('upper_sign_equal_1', 0.0),\n",
       " ('upper_sign_equal_2', 0.0),\n",
       " ('lower_exp_3', 0.0),\n",
       " ('lower_sign_stat_1', 0.0),\n",
       " ('lower_sign_equal_1', 0.0),\n",
       " ('lower_sign_equal_2', 0.0),\n",
       " ('comb_sign_equal_2', 0.0),\n",
       " ('rw_ipr_1', 0.0),\n",
       " ('rw_abs90', 0.0),\n",
       " ('rw_sign_equal_1', 0.0),\n",
       " ('rw_sign_equal_2', 0.0),\n",
       " ('path_4', 0.0),\n",
       " ('path_5', 0.0),\n",
       " ('path_6', 0.0),\n",
       " ('path_7', 0.0),\n",
       " ('path_8', 0.0),\n",
       " ('path_9', 0.0),\n",
       " ('path_10', 0.0),\n",
       " ('path_11', 0.0),\n",
       " ('path_12', 0.0)]"
      ]
     },
     "execution_count": 44,
     "metadata": {},
     "output_type": "execute_result"
    }
   ],
   "source": [
    "feature_rank = sorted(zip(X_train.columns, rf.feature_importances_), key=lambda x: x[1], reverse=True)\n",
    "feature_rank"
   ]
  },
  {
   "cell_type": "code",
   "execution_count": 45,
   "metadata": {
    "collapsed": true
   },
   "outputs": [
    {
     "data": {
      "text/plain": [
       "array([0.09852106, 0.18779713, 0.26783277, 0.33016593, 0.39167574,\n",
       "       0.44112679, 0.489897  , 0.53368191, 0.57424855, 0.60999229,\n",
       "       0.63811183, 0.66039922, 0.67985605, 0.69802214, 0.71383392,\n",
       "       0.72880458, 0.74351139, 0.75807523, 0.77258701, 0.78700285,\n",
       "       0.8005908 , 0.81351451, 0.82597549, 0.83694574, 0.8474028 ,\n",
       "       0.85704428, 0.86664143, 0.87589392, 0.88475851, 0.89301359,\n",
       "       0.90098587, 0.90866353, 0.91561237, 0.92233221, 0.92809733,\n",
       "       0.93348315, 0.93825932, 0.94243647, 0.94619189, 0.94991404,\n",
       "       0.95346749, 0.9567903 , 0.96006158, 0.96327453, 0.96632109,\n",
       "       0.96899316, 0.97164825, 0.97390492, 0.97595742, 0.97796426,\n",
       "       0.97990944, 0.98185304, 0.98356919, 0.98500127, 0.98633494,\n",
       "       0.98751132, 0.98868056, 0.98982212, 0.99093196, 0.99202879,\n",
       "       0.99292837, 0.99381841, 0.9946021 , 0.99533824, 0.9960591 ,\n",
       "       0.99676688, 0.99738056, 0.997931  , 0.99847548, 0.99899863,\n",
       "       0.99939807, 0.99971919, 0.99985206, 0.99996548, 1.        ,\n",
       "       1.        , 1.        , 1.        , 1.        , 1.        ,\n",
       "       1.        , 1.        , 1.        , 1.        , 1.        ,\n",
       "       1.        , 1.        , 1.        , 1.        , 1.        ,\n",
       "       1.        , 1.        , 1.        , 1.        , 1.        ,\n",
       "       1.        , 1.        , 1.        , 1.        , 1.        ,\n",
       "       1.        , 1.        , 1.        , 1.        , 1.        ,\n",
       "       1.        , 1.        , 1.        , 1.        , 1.        ,\n",
       "       1.        , 1.        , 1.        , 1.        , 1.        ,\n",
       "       1.        , 1.        , 1.        , 1.        , 1.        ,\n",
       "       1.        , 1.        , 1.        , 1.        , 1.        ,\n",
       "       1.        , 1.        , 1.        , 1.        ])"
      ]
     },
     "execution_count": 45,
     "metadata": {},
     "output_type": "execute_result"
    }
   ],
   "source": [
    "f_rank = np.array([x[1] for x in feature_rank])\n",
    "f_rank = np.cumsum(f_rank)\n",
    "f_rank"
   ]
  },
  {
   "cell_type": "code",
   "execution_count": 46,
   "metadata": {},
   "outputs": [],
   "source": [
    "import matplotlib.pyplot as plt"
   ]
  },
  {
   "cell_type": "code",
   "execution_count": 47,
   "metadata": {},
   "outputs": [
    {
     "data": {
      "text/plain": [
       "[<matplotlib.lines.Line2D at 0x7fd2a8d28630>]"
      ]
     },
     "execution_count": 47,
     "metadata": {},
     "output_type": "execute_result"
    },
    {
     "data": {
      "image/png": "[encoded data removed]",
      "text/plain": [
       "<Figure size 432x288 with 1 Axes>"
      ]
     },
     "metadata": {
      "needs_background": "light"
     },
     "output_type": "display_data"
    }
   ],
   "source": [
    "plt.plot(f_rank)"
   ]
  },
  {
   "cell_type": "code",
   "execution_count": 56,
   "metadata": {},
   "outputs": [],
   "source": [
    "pred_rf = rf.predict_proba(X_test)[:, 1]"
   ]
  },
  {
   "cell_type": "code",
   "execution_count": 60,
   "metadata": {},
   "outputs": [],
   "source": [
    "sample_sizes = [8, 16, 32, 64, 128, 256, 512, 800]\n",
    "results = precision_recall(pred_rf, Y_test, *sample_sizes)"
   ]
  },
  {
   "cell_type": "code",
   "execution_count": 61,
   "metadata": {},
   "outputs": [
    {
     "data": {
      "text/plain": [
       "[(8, (1.0, 0.1038961038961039)),\n",
       " (16, (1.0, 0.2077922077922078)),\n",
       " (32, (1.0, 0.4155844155844156)),\n",
       " (64, (0.796875, 0.6623376623376623)),\n",
       " (128, (0.4375, 0.7272727272727273)),\n",
       " (256, (0.25390625, 0.8441558441558441)),\n",
       " (512, (0.150390625, 1.0)),\n",
       " (800, (0.09625, 1.0))]"
      ]
     },
     "execution_count": 61,
     "metadata": {},
     "output_type": "execute_result"
    }
   ],
   "source": [
    "list(zip(sample_sizes, results))"
   ]
  },
  {
   "cell_type": "code",
   "execution_count": 63,
   "metadata": {},
   "outputs": [
    {
     "data": {
      "text/plain": [
       "0.7478990447040772"
      ]
     },
     "execution_count": 63,
     "metadata": {},
     "output_type": "execute_result"
    }
   ],
   "source": [
    "avg_prec = average_precision(pred_rf, Y_test)\n",
    "avg_prec"
   ]
  },
  {
   "cell_type": "code",
   "execution_count": null,
   "metadata": {},
   "outputs": [],
   "source": []
  }
 ],
 "metadata": {
  "kernelspec": {
   "display_name": "Python 3",
   "language": "python",
   "name": "python3"
  },
  "language_info": {
   "codemirror_mode": {
    "name": "ipython",
    "version": 3
   },
   "file_extension": ".py",
   "mimetype": "text/x-python",
   "name": "python",
   "nbconvert_exporter": "python",
   "pygments_lexer": "ipython3",
   "version": "3.6.7"
  }
 },
 "nbformat": 4,
 "nbformat_minor": 2
}
