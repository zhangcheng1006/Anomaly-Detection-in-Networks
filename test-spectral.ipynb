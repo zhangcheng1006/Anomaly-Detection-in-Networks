{
 "cells": [
  {
   "cell_type": "code",
   "execution_count": 1,
   "metadata": {
    "scrolled": true
   },
   "outputs": [],
   "source": [
    "import numpy as np\n",
    "import networkx as nx\n",
    "from utils import *\n",
    "from generator import ER_generator, draw_anomalies\n",
    "import community\n",
    "import scipy\n",
    "from scipy import sparse\n",
    "from scipy.stats import norm\n",
    "import logging\n",
    "logging.basicConfig(format='%(name)s - %(levelname)s - %(message)s', level=logging.INFO)"
   ]
  },
  {
   "cell_type": "code",
   "execution_count": 2,
   "metadata": {
    "collapsed": true
   },
   "outputs": [
    {
     "name": "stdout",
     "output_type": "stream",
     "text": [
      "Adding 12 anomalies...\n",
      "The 1th anomaly...\n",
      "0\n",
      "Adding trees...\n",
      "9\n",
      "The 2th anomaly...\n",
      "9\n",
      "17\n",
      "Adding cliques...\n",
      "The 3th anomaly...\n",
      "17\n",
      "24\n",
      "Adding rings...\n",
      "The 4th anomaly...\n",
      "24\n",
      "36\n",
      "Adding paths...\n",
      "[511 520 861 642 629 795 697 357 286 958 187  89]\n",
      "The 5th anomaly...\n",
      "36\n",
      "49\n",
      "Adding cliques...\n",
      "The 6th anomaly...\n",
      "49\n",
      "68\n",
      "Adding paths...\n",
      "[920 105 696 279 624 689 432 169 656 899 134 525 926 686 104 591 593 180\n",
      "   8]\n",
      "The 7th anomaly...\n",
      "68\n",
      "86\n",
      "Adding cliques...\n",
      "The 8th anomaly...\n",
      "86\n",
      "96\n",
      "Adding paths...\n",
      "[346 998 561 662 936 110 359 804 765 907]\n",
      "The 9th anomaly...\n",
      "96\n",
      "108\n",
      "Adding stars...\n",
      "The 10th anomaly...\n",
      "108\n",
      "122\n",
      "Adding paths...\n",
      "[289  21 834 278 704 811 407 337 355 901  60 419 362 862]\n",
      "The 11th anomaly...\n",
      "122\n",
      "139\n",
      "Adding rings...\n",
      "The 12th anomaly...\n",
      "139\n",
      "153\n",
      "Adding rings...\n"
     ]
    }
   ],
   "source": [
    "obs_network = ER_generator(n=1000)\n",
    "obs_network = draw_anomalies(obs_network)"
   ]
  },
  {
   "cell_type": "code",
   "execution_count": 3,
   "metadata": {},
   "outputs": [
    {
     "name": "stderr",
     "output_type": "stream",
     "text": [
      "root - INFO - Generating 1-th null model\n",
      "root - INFO - Partitioning graph\n",
      "root - INFO - Generating 2-th null model\n",
      "root - INFO - Partitioning graph\n",
      "root - INFO - Generating 3-th null model\n",
      "root - INFO - Partitioning graph\n",
      "root - INFO - Generating 4-th null model\n",
      "root - INFO - Partitioning graph\n",
      "root - INFO - Generating 5-th null model\n",
      "root - INFO - Partitioning graph\n",
      "root - INFO - Generating 6-th null model\n",
      "root - INFO - Partitioning graph\n",
      "root - INFO - Generating 7-th null model\n",
      "root - INFO - Partitioning graph\n",
      "root - INFO - Generating 8-th null model\n",
      "root - INFO - Partitioning graph\n",
      "root - INFO - Generating 9-th null model\n",
      "root - INFO - Partitioning graph\n",
      "root - INFO - Generating 10-th null model\n",
      "root - INFO - Partitioning graph\n"
     ]
    }
   ],
   "source": [
    "null_models = generate_null_model(num_models=10, n=1000)"
   ]
  },
  {
   "cell_type": "code",
   "execution_count": 4,
   "metadata": {
    "collapsed": true
   },
   "outputs": [
    {
     "name": "stderr",
     "output_type": "stream",
     "text": [
      "/opt/miniconda3/lib/python3.6/site-packages/scipy/sparse/linalg/dsolve/linsolve.py:296: SparseEfficiencyWarning: splu requires CSC matrix format\n",
      "  warn('splu requires CSC matrix format', SparseEfficiencyWarning)\n",
      "/opt/miniconda3/lib/python3.6/site-packages/scipy/sparse/linalg/dsolve/linsolve.py:203: SparseEfficiencyWarning: spsolve is more efficient when sparse b is in the CSC matrix format\n",
      "  'is in the CSC matrix format', SparseEfficiencyWarning)\n",
      "root - INFO - Using sparse method to compute eigen vectors\n",
      "root - INFO - Using sparse method to compute eigen vectors\n",
      "root - INFO - Using sparse method to compute eigen vectors\n",
      "root - INFO - Using sparse method to compute eigen vectors\n",
      "root - INFO - Using sparse method to compute eigen vectors\n",
      "root - INFO - Using sparse method to compute eigen vectors\n",
      "root - INFO - Using sparse method to compute eigen vectors\n",
      "root - INFO - Using sparse method to compute eigen vectors\n",
      "root - INFO - Using sparse method to compute eigen vectors\n",
      "root - INFO - Using sparse method to compute eigen vectors\n",
      "root - INFO - Using sparse method to compute eigen vectors\n",
      "root - INFO - Using sparse method to compute eigen vectors\n",
      "root - INFO - Using sparse method to compute eigen vectors\n",
      "root - INFO - Using sparse method to compute eigen vectors\n",
      "root - INFO - Using sparse method to compute eigen vectors\n",
      "root - INFO - Using sparse method to compute eigen vectors\n",
      "root - INFO - Using sparse method to compute eigen vectors\n",
      "root - INFO - Using sparse method to compute eigen vectors\n",
      "root - INFO - Using sparse method to compute eigen vectors\n",
      "root - INFO - Using sparse method to compute eigen vectors\n",
      "root - INFO - Using sparse method to compute eigen vectors\n",
      "root - INFO - Using sparse method to compute eigen vectors\n",
      "root - INFO - Using sparse method to compute eigen vectors\n",
      "root - INFO - Using sparse method to compute eigen vectors\n",
      "root - INFO - Using sparse method to compute eigen vectors\n",
      "root - INFO - Using sparse method to compute eigen vectors\n",
      "root - INFO - Using sparse method to compute eigen vectors\n",
      "root - INFO - Using sparse method to compute eigen vectors\n",
      "root - INFO - Using sparse method to compute eigen vectors\n",
      "root - INFO - Using sparse method to compute eigen vectors\n",
      "root - INFO - Using sparse method to compute eigen vectors\n",
      "root - INFO - Using sparse method to compute eigen vectors\n",
      "root - INFO - Using sparse method to compute eigen vectors\n",
      "root - INFO - Using sparse method to compute eigen vectors\n",
      "root - INFO - Using sparse method to compute eigen vectors\n",
      "root - INFO - Using sparse method to compute eigen vectors\n",
      "root - INFO - Using sparse method to compute eigen vectors\n",
      "root - INFO - Using sparse method to compute eigen vectors\n",
      "root - INFO - Using sparse method to compute eigen vectors\n",
      "root - INFO - Using sparse method to compute eigen vectors\n"
     ]
    }
   ],
   "source": [
    "null_vectors = [comm_eigenvectors(comm) for comm in null_models]"
   ]
  },
  {
   "cell_type": "code",
   "execution_count": 5,
   "metadata": {},
   "outputs": [
    {
     "data": {
      "text/plain": [
       "(10, 4, (49, 20), (55, 20))"
      ]
     },
     "execution_count": 5,
     "metadata": {},
     "output_type": "execute_result"
    }
   ],
   "source": [
    "len(null_vectors), len(null_vectors[0]), null_vectors[0][0].shape, null_vectors[1][0].shape"
   ]
  },
  {
   "cell_type": "code",
   "execution_count": 6,
   "metadata": {},
   "outputs": [],
   "source": [
    "obs_comms = partition_graph(obs_network)\n",
    "obs_comms = [obs_network.subgraph(comm) for comm in obs_comms]"
   ]
  },
  {
   "cell_type": "code",
   "execution_count": 7,
   "metadata": {
    "scrolled": true
   },
   "outputs": [
    {
     "name": "stderr",
     "output_type": "stream",
     "text": [
      "root - INFO - Using sparse method to compute eigen vectors\n",
      "root - INFO - Using sparse method to compute eigen vectors\n",
      "root - INFO - Using sparse method to compute eigen vectors\n",
      "root - INFO - Using sparse method to compute eigen vectors\n",
      "root - INFO - Using sparse method to compute eigen vectors\n",
      "root - INFO - Using sparse method to compute eigen vectors\n",
      "root - INFO - Using sparse method to compute eigen vectors\n",
      "root - INFO - Using sparse method to compute eigen vectors\n",
      "root - INFO - Using sparse method to compute eigen vectors\n",
      "root - INFO - Using sparse method to compute eigen vectors\n",
      "root - INFO - Using sparse method to compute eigen vectors\n",
      "root - INFO - Using sparse method to compute eigen vectors\n",
      "root - INFO - Using sparse method to compute eigen vectors\n",
      "root - INFO - Using sparse method to compute eigen vectors\n",
      "root - INFO - Using sparse method to compute eigen vectors\n",
      "root - INFO - Using sparse method to compute eigen vectors\n",
      "root - INFO - Using sparse method to compute eigen vectors\n",
      "root - INFO - Using sparse method to compute eigen vectors\n",
      "root - INFO - Using sparse method to compute eigen vectors\n",
      "root - INFO - Using sparse method to compute eigen vectors\n",
      "root - INFO - Using sparse method to compute eigen vectors\n",
      "root - INFO - Using sparse method to compute eigen vectors\n",
      "root - INFO - Using sparse method to compute eigen vectors\n",
      "root - INFO - Using sparse method to compute eigen vectors\n",
      "root - INFO - Using sparse method to compute eigen vectors\n",
      "root - INFO - Using sparse method to compute eigen vectors\n",
      "root - INFO - Using sparse method to compute eigen vectors\n",
      "root - INFO - Using sparse method to compute eigen vectors\n",
      "root - INFO - Using sparse method to compute eigen vectors\n",
      "root - INFO - Using sparse method to compute eigen vectors\n",
      "root - INFO - Using sparse method to compute eigen vectors\n",
      "root - INFO - Using sparse method to compute eigen vectors\n",
      "root - INFO - Using sparse method to compute eigen vectors\n",
      "root - INFO - Using sparse method to compute eigen vectors\n",
      "root - INFO - Using sparse method to compute eigen vectors\n",
      "root - INFO - Using sparse method to compute eigen vectors\n",
      "root - INFO - Using sparse method to compute eigen vectors\n",
      "root - INFO - Using sparse method to compute eigen vectors\n",
      "root - INFO - Using sparse method to compute eigen vectors\n",
      "root - INFO - Using sparse method to compute eigen vectors\n",
      "root - INFO - Using sparse method to compute eigen vectors\n",
      "root - INFO - Using sparse method to compute eigen vectors\n",
      "root - INFO - Using sparse method to compute eigen vectors\n",
      "root - INFO - Using sparse method to compute eigen vectors\n",
      "root - INFO - Using sparse method to compute eigen vectors\n",
      "root - INFO - Using sparse method to compute eigen vectors\n",
      "root - INFO - Using sparse method to compute eigen vectors\n",
      "root - INFO - Using sparse method to compute eigen vectors\n",
      "root - INFO - Using sparse method to compute eigen vectors\n",
      "root - INFO - Using sparse method to compute eigen vectors\n",
      "root - INFO - Using sparse method to compute eigen vectors\n",
      "root - INFO - Using sparse method to compute eigen vectors\n",
      "root - INFO - Using sparse method to compute eigen vectors\n",
      "root - INFO - Using sparse method to compute eigen vectors\n",
      "root - INFO - Using sparse method to compute eigen vectors\n",
      "root - INFO - Using sparse method to compute eigen vectors\n",
      "root - INFO - Using sparse method to compute eigen vectors\n",
      "root - INFO - Using sparse method to compute eigen vectors\n",
      "root - INFO - Using sparse method to compute eigen vectors\n",
      "root - INFO - Using sparse method to compute eigen vectors\n",
      "root - INFO - Using sparse method to compute eigen vectors\n",
      "root - INFO - Using sparse method to compute eigen vectors\n"
     ]
    }
   ],
   "source": [
    "obs_comm_vectors = [comm_eigenvectors(comm) for comm in obs_comms if nx.number_of_nodes(comm)>4]"
   ]
  },
  {
   "cell_type": "code",
   "execution_count": 19,
   "metadata": {},
   "outputs": [],
   "source": [
    "from spectral_localisation import *"
   ]
  },
  {
   "cell_type": "code",
   "execution_count": 9,
   "metadata": {},
   "outputs": [],
   "source": [
    "obs_upper = obs_comm_vectors[0][0]"
   ]
  },
  {
   "cell_type": "code",
   "execution_count": 10,
   "metadata": {},
   "outputs": [],
   "source": [
    "null_upper = [null_vs[0] for null_vs in null_vectors]"
   ]
  },
  {
   "cell_type": "code",
   "execution_count": 11,
   "metadata": {},
   "outputs": [],
   "source": [
    "iprs, exps = norm_based_scores(obs_upper, null_upper)"
   ]
  },
  {
   "cell_type": "code",
   "execution_count": 12,
   "metadata": {},
   "outputs": [],
   "source": [
    "ipr90_scores, abs90_scores = direct_score(obs_upper, null_upper)"
   ]
  },
  {
   "cell_type": "code",
   "execution_count": 15,
   "metadata": {},
   "outputs": [
    {
     "data": {
      "text/plain": [
       "array([0.32501377, 0.29628557, 0.39134275, 0.28408147, 0.26891444,\n",
       "       0.30256788, 0.39703666, 0.36799631, 0.39859374, 0.38039837,\n",
       "       0.39137682, 0.3742271 , 0.39538413, 0.39617513, 0.39891813,\n",
       "       0.33497379, 0.28424849, 0.39847299, 0.38696402, 0.35906758])"
      ]
     },
     "execution_count": 15,
     "metadata": {},
     "output_type": "execute_result"
    }
   ],
   "source": [
    "ipr90_scores"
   ]
  },
  {
   "cell_type": "code",
   "execution_count": 16,
   "metadata": {},
   "outputs": [],
   "source": [
    "sign_stat_1, sign_stat_2, sign_stat_equal_1, sign_stat_equal_2 = sign_based_score(obs_upper, null_upper)"
   ]
  },
  {
   "cell_type": "code",
   "execution_count": 18,
   "metadata": {},
   "outputs": [
    {
     "data": {
      "text/plain": [
       "(41, 20)"
      ]
     },
     "execution_count": 18,
     "metadata": {},
     "output_type": "execute_result"
    }
   ],
   "source": [
    "total_scores = spectral_localization_features(obs_c)"
   ]
  },
  {
   "cell_type": "code",
   "execution_count": null,
   "metadata": {},
   "outputs": [],
   "source": []
  }
 ],
 "metadata": {
  "kernelspec": {
   "display_name": "Python 3",
   "language": "python",
   "name": "python3"
  },
  "language_info": {
   "codemirror_mode": {
    "name": "ipython",
    "version": 3
   },
   "file_extension": ".py",
   "mimetype": "text/x-python",
   "name": "python",
   "nbconvert_exporter": "python",
   "pygments_lexer": "ipython3",
   "version": "3.6.8"
  }
 },
 "nbformat": 4,
 "nbformat_minor": 2
}
